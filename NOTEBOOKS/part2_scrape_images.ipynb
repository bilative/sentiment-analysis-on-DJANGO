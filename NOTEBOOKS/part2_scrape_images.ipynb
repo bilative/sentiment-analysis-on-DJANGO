{
 "cells": [
  {
   "cell_type": "markdown",
   "metadata": {},
   "source": [
    "I need to images of the every movies. I want to show them in my django web page with their names and the header photos.\n",
    "\n",
    "Actually there is about 300+ movies and I dont want to search every of them by hand and save their photos. So I decided to automate this task.\n",
    "\n",
    "I thought that I can search every movies in beyazperde.com and find their header photos, So my header photos'll fed by beyazperde.com"
   ]
  },
  {
   "cell_type": "code",
   "execution_count": 1,
   "metadata": {},
   "outputs": [],
   "source": [
    "import requests #!pip install requests\n",
    "from bs4 import BeautifulSoup #!pip install beautifulsoup4\n",
    "import time\n",
    "\n",
    "import pandas as pd"
   ]
  },
  {
   "cell_type": "code",
   "execution_count": 2,
   "metadata": {},
   "outputs": [],
   "source": [
    "# Our When we search the name of the movie, our url should looks like this https://www.beyazperde.com/aramak/?q=kelebegin-ruyasi\n",
    "BASE_SEARCHING_URL = 'https://www.beyazperde.com/aramak/?q='\n",
    "\n",
    "def get_soup(TARGET_URL):\n",
    "    page = requests.get(TARGET_URL)\n",
    "    soup = BeautifulSoup(page.content, 'html.parser')\n",
    "    return soup"
   ]
  },
  {
   "cell_type": "code",
   "execution_count": 3,
   "metadata": {},
   "outputs": [],
   "source": [
    "def find_header_url(movie_name):\n",
    "    movie_name = movie_name.replace(' ', '+').upper()\n",
    "    SEARCHING_URL = BASE_SEARCHING_URL + movie_name\n",
    "    \n",
    "    searching_soup = get_soup(SEARCHING_URL)\n",
    "    header_url = searching_soup.find_all('div', attrs={'class':'card entity-card entity-card-list cf'})[0].find_all('img')[0]['data-src']\n",
    "    return header_url"
   ]
  },
  {
   "cell_type": "markdown",
   "metadata": {},
   "source": [
    "### Taking Movie List"
   ]
  },
  {
   "cell_type": "code",
   "execution_count": 14,
   "metadata": {},
   "outputs": [
    {
     "data": {
      "text/html": [
       "<div>\n",
       "<style scoped>\n",
       "    .dataframe tbody tr th:only-of-type {\n",
       "        vertical-align: middle;\n",
       "    }\n",
       "\n",
       "    .dataframe tbody tr th {\n",
       "        vertical-align: top;\n",
       "    }\n",
       "\n",
       "    .dataframe thead th {\n",
       "        text-align: right;\n",
       "    }\n",
       "</style>\n",
       "<table border=\"1\" class=\"dataframe\">\n",
       "  <thead>\n",
       "    <tr style=\"text-align: right;\">\n",
       "      <th></th>\n",
       "      <th>movie</th>\n",
       "      <th>sentiment</th>\n",
       "      <th>comment</th>\n",
       "    </tr>\n",
       "  </thead>\n",
       "  <tbody>\n",
       "    <tr>\n",
       "      <th>0</th>\n",
       "      <td>Mumya</td>\n",
       "      <td>negative</td>\n",
       "      <td>İlk film itibarı ile kadroda nam yapmış star o...</td>\n",
       "    </tr>\n",
       "    <tr>\n",
       "      <th>1</th>\n",
       "      <td>Mumya</td>\n",
       "      <td>negative</td>\n",
       "      <td>sırtına bolca görsel efetlere dayamış, gerek h...</td>\n",
       "    </tr>\n",
       "    <tr>\n",
       "      <th>2</th>\n",
       "      <td>Mumya</td>\n",
       "      <td>positive</td>\n",
       "      <td>bence gayet güzel bi filmdi her ne kadar brend...</td>\n",
       "    </tr>\n",
       "    <tr>\n",
       "      <th>3</th>\n",
       "      <td>Mumya</td>\n",
       "      <td>positive</td>\n",
       "      <td>Sinemada seyretmiştim.Gerçekten güzel filmdi.F...</td>\n",
       "    </tr>\n",
       "    <tr>\n",
       "      <th>4</th>\n",
       "      <td>Mumya</td>\n",
       "      <td>positive</td>\n",
       "      <td>harikaaa bi filmdi.. izlerken cidden ürkmüştüm...</td>\n",
       "    </tr>\n",
       "  </tbody>\n",
       "</table>\n",
       "</div>"
      ],
      "text/plain": [
       "   movie sentiment                                            comment\n",
       "0  Mumya  negative  İlk film itibarı ile kadroda nam yapmış star o...\n",
       "1  Mumya  negative  sırtına bolca görsel efetlere dayamış, gerek h...\n",
       "2  Mumya  positive  bence gayet güzel bi filmdi her ne kadar brend...\n",
       "3  Mumya  positive  Sinemada seyretmiştim.Gerçekten güzel filmdi.F...\n",
       "4  Mumya  positive  harikaaa bi filmdi.. izlerken cidden ürkmüştüm..."
      ]
     },
     "execution_count": 14,
     "metadata": {},
     "output_type": "execute_result"
    }
   ],
   "source": [
    "df = pd.read_csv('data/predicteds.csv')\n",
    "df = df.dropna().reset_index(drop=True)\n",
    "df.head()"
   ]
  },
  {
   "cell_type": "code",
   "execution_count": 5,
   "metadata": {},
   "outputs": [],
   "source": [
    "movie_header_urls = {}\n",
    "for name in df['movie'].unique():\n",
    "    header_url = find_header_url(name)\n",
    "\n",
    "    movie_header_urls[name] = header_url\n",
    "    \n",
    "    time.sleep(3)\n",
    "    # I dont wanna effect traffic of the website\n",
    "    # Sleep provide us to wait 3seconds in every iteration, to our all 86 requests'll send 86 * 3 = 238second"
   ]
  },
  {
   "cell_type": "code",
   "execution_count": 6,
   "metadata": {},
   "outputs": [
    {
     "data": {
      "text/plain": [
       "86"
      ]
     },
     "execution_count": 6,
     "metadata": {},
     "output_type": "execute_result"
    }
   ],
   "source": [
    "len(movie_header_urls)"
   ]
  },
  {
   "cell_type": "code",
   "execution_count": 7,
   "metadata": {},
   "outputs": [],
   "source": [
    "df['header_urls'] = [movie_header_urls[name] for name in df['movie']]"
   ]
  },
  {
   "cell_type": "code",
   "execution_count": 9,
   "metadata": {},
   "outputs": [
    {
     "data": {
      "text/html": [
       "<div>\n",
       "<style scoped>\n",
       "    .dataframe tbody tr th:only-of-type {\n",
       "        vertical-align: middle;\n",
       "    }\n",
       "\n",
       "    .dataframe tbody tr th {\n",
       "        vertical-align: top;\n",
       "    }\n",
       "\n",
       "    .dataframe thead th {\n",
       "        text-align: right;\n",
       "    }\n",
       "</style>\n",
       "<table border=\"1\" class=\"dataframe\">\n",
       "  <thead>\n",
       "    <tr style=\"text-align: right;\">\n",
       "      <th></th>\n",
       "      <th>movie</th>\n",
       "      <th>sentiment</th>\n",
       "      <th>comment</th>\n",
       "      <th>header_urls</th>\n",
       "    </tr>\n",
       "  </thead>\n",
       "  <tbody>\n",
       "    <tr>\n",
       "      <th>0</th>\n",
       "      <td>Mumya</td>\n",
       "      <td>negative</td>\n",
       "      <td>İlk film itibarı ile kadroda nam yapmış star o...</td>\n",
       "      <td>https://tr.web.img4.acsta.net/c_310_420/pictur...</td>\n",
       "    </tr>\n",
       "    <tr>\n",
       "      <th>1</th>\n",
       "      <td>Mumya</td>\n",
       "      <td>negative</td>\n",
       "      <td>sırtına bolca görsel efetlere dayamış, gerek h...</td>\n",
       "      <td>https://tr.web.img4.acsta.net/c_310_420/pictur...</td>\n",
       "    </tr>\n",
       "    <tr>\n",
       "      <th>2</th>\n",
       "      <td>Mumya</td>\n",
       "      <td>positive</td>\n",
       "      <td>bence gayet güzel bi filmdi her ne kadar brend...</td>\n",
       "      <td>https://tr.web.img4.acsta.net/c_310_420/pictur...</td>\n",
       "    </tr>\n",
       "    <tr>\n",
       "      <th>3</th>\n",
       "      <td>Mumya</td>\n",
       "      <td>positive</td>\n",
       "      <td>Sinemada seyretmiştim.Gerçekten güzel filmdi.F...</td>\n",
       "      <td>https://tr.web.img4.acsta.net/c_310_420/pictur...</td>\n",
       "    </tr>\n",
       "    <tr>\n",
       "      <th>4</th>\n",
       "      <td>Mumya</td>\n",
       "      <td>positive</td>\n",
       "      <td>harikaaa bi filmdi.. izlerken cidden ürkmüştüm...</td>\n",
       "      <td>https://tr.web.img4.acsta.net/c_310_420/pictur...</td>\n",
       "    </tr>\n",
       "  </tbody>\n",
       "</table>\n",
       "</div>"
      ],
      "text/plain": [
       "   movie sentiment                                            comment  \\\n",
       "0  Mumya  negative  İlk film itibarı ile kadroda nam yapmış star o...   \n",
       "1  Mumya  negative  sırtına bolca görsel efetlere dayamış, gerek h...   \n",
       "2  Mumya  positive  bence gayet güzel bi filmdi her ne kadar brend...   \n",
       "3  Mumya  positive  Sinemada seyretmiştim.Gerçekten güzel filmdi.F...   \n",
       "4  Mumya  positive  harikaaa bi filmdi.. izlerken cidden ürkmüştüm...   \n",
       "\n",
       "                                         header_urls  \n",
       "0  https://tr.web.img4.acsta.net/c_310_420/pictur...  \n",
       "1  https://tr.web.img4.acsta.net/c_310_420/pictur...  \n",
       "2  https://tr.web.img4.acsta.net/c_310_420/pictur...  \n",
       "3  https://tr.web.img4.acsta.net/c_310_420/pictur...  \n",
       "4  https://tr.web.img4.acsta.net/c_310_420/pictur...  "
      ]
     },
     "execution_count": 9,
     "metadata": {},
     "output_type": "execute_result"
    }
   ],
   "source": [
    "df.head()"
   ]
  },
  {
   "cell_type": "code",
   "execution_count": 10,
   "metadata": {},
   "outputs": [
    {
     "data": {
      "text/html": [
       "<div>\n",
       "<style scoped>\n",
       "    .dataframe tbody tr th:only-of-type {\n",
       "        vertical-align: middle;\n",
       "    }\n",
       "\n",
       "    .dataframe tbody tr th {\n",
       "        vertical-align: top;\n",
       "    }\n",
       "\n",
       "    .dataframe thead th {\n",
       "        text-align: right;\n",
       "    }\n",
       "</style>\n",
       "<table border=\"1\" class=\"dataframe\">\n",
       "  <thead>\n",
       "    <tr style=\"text-align: right;\">\n",
       "      <th></th>\n",
       "      <th>movie</th>\n",
       "      <th>sentiment</th>\n",
       "      <th>comment</th>\n",
       "      <th>header_urls</th>\n",
       "    </tr>\n",
       "  </thead>\n",
       "  <tbody>\n",
       "    <tr>\n",
       "      <th>0</th>\n",
       "      <td>Mumya</td>\n",
       "      <td>negative</td>\n",
       "      <td>İlk film itibarı ile kadroda nam yapmış star o...</td>\n",
       "      <td>https://tr.web.img4.acsta.net/c_310_420/pictur...</td>\n",
       "    </tr>\n",
       "    <tr>\n",
       "      <th>1</th>\n",
       "      <td>Mumya</td>\n",
       "      <td>negative</td>\n",
       "      <td>sırtına bolca görsel efetlere dayamış, gerek h...</td>\n",
       "      <td>https://tr.web.img4.acsta.net/c_310_420/pictur...</td>\n",
       "    </tr>\n",
       "    <tr>\n",
       "      <th>2</th>\n",
       "      <td>Mumya</td>\n",
       "      <td>positive</td>\n",
       "      <td>bence gayet güzel bi filmdi her ne kadar brend...</td>\n",
       "      <td>https://tr.web.img4.acsta.net/c_310_420/pictur...</td>\n",
       "    </tr>\n",
       "    <tr>\n",
       "      <th>3</th>\n",
       "      <td>Mumya</td>\n",
       "      <td>positive</td>\n",
       "      <td>Sinemada seyretmiştim.Gerçekten güzel filmdi.F...</td>\n",
       "      <td>https://tr.web.img4.acsta.net/c_310_420/pictur...</td>\n",
       "    </tr>\n",
       "    <tr>\n",
       "      <th>4</th>\n",
       "      <td>Mumya</td>\n",
       "      <td>positive</td>\n",
       "      <td>harikaaa bi filmdi.. izlerken cidden ürkmüştüm...</td>\n",
       "      <td>https://tr.web.img4.acsta.net/c_310_420/pictur...</td>\n",
       "    </tr>\n",
       "  </tbody>\n",
       "</table>\n",
       "</div>"
      ],
      "text/plain": [
       "   movie sentiment                                            comment  \\\n",
       "0  Mumya  negative  İlk film itibarı ile kadroda nam yapmış star o...   \n",
       "1  Mumya  negative  sırtına bolca görsel efetlere dayamış, gerek h...   \n",
       "2  Mumya  positive  bence gayet güzel bi filmdi her ne kadar brend...   \n",
       "3  Mumya  positive  Sinemada seyretmiştim.Gerçekten güzel filmdi.F...   \n",
       "4  Mumya  positive  harikaaa bi filmdi.. izlerken cidden ürkmüştüm...   \n",
       "\n",
       "                                         header_urls  \n",
       "0  https://tr.web.img4.acsta.net/c_310_420/pictur...  \n",
       "1  https://tr.web.img4.acsta.net/c_310_420/pictur...  \n",
       "2  https://tr.web.img4.acsta.net/c_310_420/pictur...  \n",
       "3  https://tr.web.img4.acsta.net/c_310_420/pictur...  \n",
       "4  https://tr.web.img4.acsta.net/c_310_420/pictur...  "
      ]
     },
     "execution_count": 10,
     "metadata": {},
     "output_type": "execute_result"
    }
   ],
   "source": [
    "df.to_csv('data/predicteds_w_headers.csv', index = False)\n",
    "df.head()"
   ]
  },
  {
   "cell_type": "code",
   "execution_count": 13,
   "metadata": {},
   "outputs": [
    {
     "data": {
      "text/plain": [
       "74"
      ]
     },
     "execution_count": 13,
     "metadata": {},
     "output_type": "execute_result"
    }
   ],
   "source": [
    "len(df['header_urls'][0])"
   ]
  },
  {
   "cell_type": "code",
   "execution_count": null,
   "metadata": {},
   "outputs": [],
   "source": []
  }
 ],
 "metadata": {
  "interpreter": {
   "hash": "4800c9a39adaa0c8765317c41af873c7b6ed4d2670d38dacbf28f56f976237f1"
  },
  "kernelspec": {
   "display_name": "Python 3.7.6 64-bit",
   "language": "python",
   "name": "python3"
  },
  "language_info": {
   "codemirror_mode": {
    "name": "ipython",
    "version": 3
   },
   "file_extension": ".py",
   "mimetype": "text/x-python",
   "name": "python",
   "nbconvert_exporter": "python",
   "pygments_lexer": "ipython3",
   "version": "3.7.6"
  },
  "orig_nbformat": 4
 },
 "nbformat": 4,
 "nbformat_minor": 2
}
