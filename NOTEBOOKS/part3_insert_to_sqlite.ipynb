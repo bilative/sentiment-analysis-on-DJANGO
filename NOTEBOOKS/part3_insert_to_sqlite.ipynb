{
 "cells": [
  {
   "cell_type": "code",
   "execution_count": 1,
   "metadata": {},
   "outputs": [],
   "source": [
    "import pandas as pd\n",
    "import sqlite3\n",
    "\n",
    "from datetime import datetime, timedelta\n",
    "import random\n",
    "import time\n",
    "import numpy as np"
   ]
  },
  {
   "cell_type": "code",
   "execution_count": 2,
   "metadata": {},
   "outputs": [],
   "source": [
    "df = pd.read_csv('data/predicteds_w_headers.csv')"
   ]
  },
  {
   "cell_type": "code",
   "execution_count": 3,
   "metadata": {},
   "outputs": [
    {
     "data": {
      "text/html": [
       "<div>\n",
       "<style scoped>\n",
       "    .dataframe tbody tr th:only-of-type {\n",
       "        vertical-align: middle;\n",
       "    }\n",
       "\n",
       "    .dataframe tbody tr th {\n",
       "        vertical-align: top;\n",
       "    }\n",
       "\n",
       "    .dataframe thead th {\n",
       "        text-align: right;\n",
       "    }\n",
       "</style>\n",
       "<table border=\"1\" class=\"dataframe\">\n",
       "  <thead>\n",
       "    <tr style=\"text-align: right;\">\n",
       "      <th></th>\n",
       "      <th>movie</th>\n",
       "      <th>sentiment</th>\n",
       "      <th>comment</th>\n",
       "      <th>header_urls</th>\n",
       "    </tr>\n",
       "  </thead>\n",
       "  <tbody>\n",
       "    <tr>\n",
       "      <th>0</th>\n",
       "      <td>Mumya</td>\n",
       "      <td>negative</td>\n",
       "      <td>İlk film itibarı ile kadroda nam yapmış star o...</td>\n",
       "      <td>https://tr.web.img4.acsta.net/c_310_420/pictur...</td>\n",
       "    </tr>\n",
       "    <tr>\n",
       "      <th>1</th>\n",
       "      <td>Mumya</td>\n",
       "      <td>negative</td>\n",
       "      <td>sırtına bolca görsel efetlere dayamış, gerek h...</td>\n",
       "      <td>https://tr.web.img4.acsta.net/c_310_420/pictur...</td>\n",
       "    </tr>\n",
       "    <tr>\n",
       "      <th>2</th>\n",
       "      <td>Mumya</td>\n",
       "      <td>positive</td>\n",
       "      <td>bence gayet güzel bi filmdi her ne kadar brend...</td>\n",
       "      <td>https://tr.web.img4.acsta.net/c_310_420/pictur...</td>\n",
       "    </tr>\n",
       "    <tr>\n",
       "      <th>3</th>\n",
       "      <td>Mumya</td>\n",
       "      <td>positive</td>\n",
       "      <td>Sinemada seyretmiştim.Gerçekten güzel filmdi.F...</td>\n",
       "      <td>https://tr.web.img4.acsta.net/c_310_420/pictur...</td>\n",
       "    </tr>\n",
       "    <tr>\n",
       "      <th>4</th>\n",
       "      <td>Mumya</td>\n",
       "      <td>positive</td>\n",
       "      <td>harikaaa bi filmdi.. izlerken cidden ürkmüştüm...</td>\n",
       "      <td>https://tr.web.img4.acsta.net/c_310_420/pictur...</td>\n",
       "    </tr>\n",
       "  </tbody>\n",
       "</table>\n",
       "</div>"
      ],
      "text/plain": [
       "   movie sentiment                                            comment  \\\n",
       "0  Mumya  negative  İlk film itibarı ile kadroda nam yapmış star o...   \n",
       "1  Mumya  negative  sırtına bolca görsel efetlere dayamış, gerek h...   \n",
       "2  Mumya  positive  bence gayet güzel bi filmdi her ne kadar brend...   \n",
       "3  Mumya  positive  Sinemada seyretmiştim.Gerçekten güzel filmdi.F...   \n",
       "4  Mumya  positive  harikaaa bi filmdi.. izlerken cidden ürkmüştüm...   \n",
       "\n",
       "                                         header_urls  \n",
       "0  https://tr.web.img4.acsta.net/c_310_420/pictur...  \n",
       "1  https://tr.web.img4.acsta.net/c_310_420/pictur...  \n",
       "2  https://tr.web.img4.acsta.net/c_310_420/pictur...  \n",
       "3  https://tr.web.img4.acsta.net/c_310_420/pictur...  \n",
       "4  https://tr.web.img4.acsta.net/c_310_420/pictur...  "
      ]
     },
     "execution_count": 3,
     "metadata": {},
     "output_type": "execute_result"
    }
   ],
   "source": [
    "df.head()"
   ]
  },
  {
   "cell_type": "code",
   "execution_count": 4,
   "metadata": {},
   "outputs": [],
   "source": [
    "conn = sqlite3.connect('C:/Users/bilal/Desktop/MovieApp/db.sqlite3')\n",
    "c = conn.cursor()"
   ]
  },
  {
   "cell_type": "code",
   "execution_count": 5,
   "metadata": {},
   "outputs": [],
   "source": [
    "index_ = 1\n",
    "\n",
    "for comment, movie, sentiment, header_urls in zip(df['comment'], df['movie'], df['sentiment'], df['header_urls']):\n",
    "\n",
    "    starting = random.randint(0,24)\n",
    "    ending = random.randint(25,55)\n",
    "    week = random.randint(starting, ending)\n",
    "    day = random.randint(starting, ending)\n",
    "    hour =  random.randint(starting, ending)\n",
    "    minute = random.randint(starting, ending)\n",
    "\n",
    "    if comment in [None, np.NaN, '']:\n",
    "        comment = 'Bos Yorum'\n",
    "\n",
    "    records = [(index_, movie, comment, sentiment, header_urls, str(datetime.now() - timedelta(weeks=week, days=day, hours=hour, minutes=minute)))]\n",
    "\n",
    "    c.executemany('INSERT INTO moviecomments_movie VALUES(?,?,?,?,?,?);',records)\n",
    "\n",
    "    index_ += 1\n",
    "\n",
    "    if index_ % 10 == 0:\n",
    "        time.sleep(0.2)\n",
    "\t\t\t\n",
    "conn.commit()\n",
    "conn.close()"
   ]
  },
  {
   "cell_type": "code",
   "execution_count": null,
   "metadata": {},
   "outputs": [],
   "source": []
  }
 ],
 "metadata": {
  "interpreter": {
   "hash": "4800c9a39adaa0c8765317c41af873c7b6ed4d2670d38dacbf28f56f976237f1"
  },
  "kernelspec": {
   "display_name": "Python 3.7.6 64-bit",
   "language": "python",
   "name": "python3"
  },
  "language_info": {
   "codemirror_mode": {
    "name": "ipython",
    "version": 3
   },
   "file_extension": ".py",
   "mimetype": "text/x-python",
   "name": "python",
   "nbconvert_exporter": "python",
   "pygments_lexer": "ipython3",
   "version": "3.7.6"
  },
  "orig_nbformat": 4
 },
 "nbformat": 4,
 "nbformat_minor": 2
}
