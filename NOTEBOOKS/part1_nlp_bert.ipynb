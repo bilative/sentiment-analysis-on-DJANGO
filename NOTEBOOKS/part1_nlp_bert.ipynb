{
 "cells": [
  {
   "cell_type": "code",
   "execution_count": 1,
   "metadata": {},
   "outputs": [],
   "source": [
    "import pandas as pd\n",
    "import os\n",
    "import warnings\n",
    "\n",
    "warnings.filterwarnings('ignore')\n",
    "\n",
    "#pd.set_option('display.max_columns', None)"
   ]
  },
  {
   "cell_type": "code",
   "execution_count": 2,
   "metadata": {},
   "outputs": [
    {
     "name": "stdout",
     "output_type": "stream",
     "text": [
      "shape of the dataset is: (83227, 3) \n",
      "\n"
     ]
    },
    {
     "data": {
      "text/html": [
       "<div>\n",
       "<style scoped>\n",
       "    .dataframe tbody tr th:only-of-type {\n",
       "        vertical-align: middle;\n",
       "    }\n",
       "\n",
       "    .dataframe tbody tr th {\n",
       "        vertical-align: top;\n",
       "    }\n",
       "\n",
       "    .dataframe thead th {\n",
       "        text-align: right;\n",
       "    }\n",
       "</style>\n",
       "<table border=\"1\" class=\"dataframe\">\n",
       "  <thead>\n",
       "    <tr style=\"text-align: right;\">\n",
       "      <th></th>\n",
       "      <th>comment</th>\n",
       "      <th>film_name</th>\n",
       "      <th>point</th>\n",
       "    </tr>\n",
       "  </thead>\n",
       "  <tbody>\n",
       "    <tr>\n",
       "      <th>0</th>\n",
       "      <td>\\n                      Jean Reno denince zate...</td>\n",
       "      <td>Sevginin Gücü</td>\n",
       "      <td>5,0</td>\n",
       "    </tr>\n",
       "    <tr>\n",
       "      <th>1</th>\n",
       "      <td>\\n                      Ekşın falan izlemek is...</td>\n",
       "      <td>Sevginin Gücü</td>\n",
       "      <td>5,0</td>\n",
       "    </tr>\n",
       "    <tr>\n",
       "      <th>2</th>\n",
       "      <td>\\n                      Bu yapım hakkında öyle...</td>\n",
       "      <td>Sevginin Gücü</td>\n",
       "      <td>5,0</td>\n",
       "    </tr>\n",
       "    <tr>\n",
       "      <th>3</th>\n",
       "      <td>\\n                      finali yeter... (sting...</td>\n",
       "      <td>Sevginin Gücü</td>\n",
       "      <td>5,0</td>\n",
       "    </tr>\n",
       "    <tr>\n",
       "      <th>4</th>\n",
       "      <td>\\n                      Jean Reno..\\r\\nbu adam...</td>\n",
       "      <td>Sevginin Gücü</td>\n",
       "      <td>5,0</td>\n",
       "    </tr>\n",
       "  </tbody>\n",
       "</table>\n",
       "</div>"
      ],
      "text/plain": [
       "                                             comment      film_name point\n",
       "0  \\n                      Jean Reno denince zate...  Sevginin Gücü   5,0\n",
       "1  \\n                      Ekşın falan izlemek is...  Sevginin Gücü   5,0\n",
       "2  \\n                      Bu yapım hakkında öyle...  Sevginin Gücü   5,0\n",
       "3  \\n                      finali yeter... (sting...  Sevginin Gücü   5,0\n",
       "4  \\n                      Jean Reno..\\r\\nbu adam...  Sevginin Gücü   5,0"
      ]
     },
     "execution_count": 2,
     "metadata": {},
     "output_type": "execute_result"
    }
   ],
   "source": [
    "df = pd.read_csv(\"data/turkish_movie_sentiment_dataset.csv\")\n",
    "\n",
    "print(f'shape of the dataset is: {df.shape} \\n')\n",
    "df.head()"
   ]
  },
  {
   "cell_type": "code",
   "execution_count": 3,
   "metadata": {},
   "outputs": [],
   "source": [
    "target = 'comment'\n",
    "scores = 'point'\n",
    "names  = 'film_name'"
   ]
  },
  {
   "cell_type": "markdown",
   "metadata": {},
   "source": [
    "- I dont wanna remember column names everytime so I standardized with my mind like this. (Dont mind, I do this to make steps easier for me)\n",
    "\n",
    "#### None and Duplicated Columns (check)\n",
    "- Actually I'll check None values and missing inputs couple of times"
   ]
  },
  {
   "cell_type": "code",
   "execution_count": 4,
   "metadata": {},
   "outputs": [
    {
     "name": "stdout",
     "output_type": "stream",
     "text": [
      "comment      0\n",
      "film_name    0\n",
      "point        0\n",
      "dtype: int64\n"
     ]
    }
   ],
   "source": [
    "print(df.isna().sum())"
   ]
  },
  {
   "cell_type": "code",
   "execution_count": 5,
   "metadata": {},
   "outputs": [
    {
     "name": "stdout",
     "output_type": "stream",
     "text": [
      "44\n"
     ]
    }
   ],
   "source": [
    "print(df.duplicated().sum())"
   ]
  },
  {
   "cell_type": "code",
   "execution_count": 6,
   "metadata": {},
   "outputs": [
    {
     "name": "stdout",
     "output_type": "stream",
     "text": [
      "(83183, 3)\n"
     ]
    }
   ],
   "source": [
    "df.drop_duplicates(inplace=True)\n",
    "\n",
    "print(df.shape)"
   ]
  },
  {
   "cell_type": "markdown",
   "metadata": {},
   "source": [
    "#### Taking movies with more than 30 comments\n",
    "- I'll use a pretrained model, And for my case size of the dataset is not important.\n",
    "I followed a way like this because movies with comment more than a x threshold'll be seen better in Django app. And With this method complications'll be reduces."
   ]
  },
  {
   "cell_type": "code",
   "execution_count": 7,
   "metadata": {},
   "outputs": [],
   "source": [
    "movies_w_30p_comments = df[names].value_counts()[df[names].value_counts() > 30].index"
   ]
  },
  {
   "cell_type": "code",
   "execution_count": 8,
   "metadata": {},
   "outputs": [],
   "source": [
    "target_indexes = [ind for ind, name in enumerate(df[names]) if name in movies_w_30p_comments]"
   ]
  },
  {
   "cell_type": "code",
   "execution_count": 9,
   "metadata": {},
   "outputs": [],
   "source": [
    "df = df.iloc[target_indexes, :].reset_index(drop=True)"
   ]
  },
  {
   "cell_type": "code",
   "execution_count": 10,
   "metadata": {},
   "outputs": [
    {
     "data": {
      "text/html": [
       "<div>\n",
       "<style scoped>\n",
       "    .dataframe tbody tr th:only-of-type {\n",
       "        vertical-align: middle;\n",
       "    }\n",
       "\n",
       "    .dataframe tbody tr th {\n",
       "        vertical-align: top;\n",
       "    }\n",
       "\n",
       "    .dataframe thead th {\n",
       "        text-align: right;\n",
       "    }\n",
       "</style>\n",
       "<table border=\"1\" class=\"dataframe\">\n",
       "  <thead>\n",
       "    <tr style=\"text-align: right;\">\n",
       "      <th></th>\n",
       "      <th>comment</th>\n",
       "      <th>film_name</th>\n",
       "      <th>point</th>\n",
       "    </tr>\n",
       "  </thead>\n",
       "  <tbody>\n",
       "    <tr>\n",
       "      <th>0</th>\n",
       "      <td>\\n                      İlk film itibarı ile k...</td>\n",
       "      <td>Mumya</td>\n",
       "      <td>4,0</td>\n",
       "    </tr>\n",
       "    <tr>\n",
       "      <th>1</th>\n",
       "      <td>\\n                      sırtına bolca görsel e...</td>\n",
       "      <td>Mumya</td>\n",
       "      <td>2,0</td>\n",
       "    </tr>\n",
       "    <tr>\n",
       "      <th>2</th>\n",
       "      <td>\\n                      bence gayet güzel bi f...</td>\n",
       "      <td>Mumya</td>\n",
       "      <td>5,0</td>\n",
       "    </tr>\n",
       "    <tr>\n",
       "      <th>3</th>\n",
       "      <td>\\n                      Sinemada seyretmiştim....</td>\n",
       "      <td>Mumya</td>\n",
       "      <td>4,0</td>\n",
       "    </tr>\n",
       "    <tr>\n",
       "      <th>4</th>\n",
       "      <td>\\n                      harikaaa bi filmdi.. i...</td>\n",
       "      <td>Mumya</td>\n",
       "      <td>4,5</td>\n",
       "    </tr>\n",
       "    <tr>\n",
       "      <th>5</th>\n",
       "      <td>\\n                      filmi birkaç defa izle...</td>\n",
       "      <td>Mumya</td>\n",
       "      <td>4,5</td>\n",
       "    </tr>\n",
       "    <tr>\n",
       "      <th>6</th>\n",
       "      <td>\\n                      bu zamana kadar izledi...</td>\n",
       "      <td>Mumya</td>\n",
       "      <td>4,0</td>\n",
       "    </tr>\n",
       "    <tr>\n",
       "      <th>7</th>\n",
       "      <td>\\n                      Ani efektleri ile bir ...</td>\n",
       "      <td>Mumya</td>\n",
       "      <td>4,0</td>\n",
       "    </tr>\n",
       "    <tr>\n",
       "      <th>8</th>\n",
       "      <td>\\n                      çok güzel ve görsel bi...</td>\n",
       "      <td>Mumya</td>\n",
       "      <td>4,5</td>\n",
       "    </tr>\n",
       "    <tr>\n",
       "      <th>9</th>\n",
       "      <td>\\n                      Ben büyük bir heyecanl...</td>\n",
       "      <td>Mumya</td>\n",
       "      <td>4,0</td>\n",
       "    </tr>\n",
       "  </tbody>\n",
       "</table>\n",
       "</div>"
      ],
      "text/plain": [
       "                                             comment film_name point\n",
       "0  \\n                      İlk film itibarı ile k...     Mumya   4,0\n",
       "1  \\n                      sırtına bolca görsel e...     Mumya   2,0\n",
       "2  \\n                      bence gayet güzel bi f...     Mumya   5,0\n",
       "3  \\n                      Sinemada seyretmiştim....     Mumya   4,0\n",
       "4  \\n                      harikaaa bi filmdi.. i...     Mumya   4,5\n",
       "5  \\n                      filmi birkaç defa izle...     Mumya   4,5\n",
       "6  \\n                      bu zamana kadar izledi...     Mumya   4,0\n",
       "7  \\n                      Ani efektleri ile bir ...     Mumya   4,0\n",
       "8  \\n                      çok güzel ve görsel bi...     Mumya   4,5\n",
       "9  \\n                      Ben büyük bir heyecanl...     Mumya   4,0"
      ]
     },
     "execution_count": 10,
     "metadata": {},
     "output_type": "execute_result"
    }
   ],
   "source": [
    "df.head(10)"
   ]
  },
  {
   "cell_type": "markdown",
   "metadata": {},
   "source": [
    "### Dropping comments with more than 200 words\n",
    "I think long comments could be complicated and In my interface, they wont seem good"
   ]
  },
  {
   "cell_type": "code",
   "execution_count": 11,
   "metadata": {},
   "outputs": [
    {
     "name": "stdout",
     "output_type": "stream",
     "text": [
      "Number of the problematic comments bc of size is: 95 ot of 3437\n"
     ]
    }
   ],
   "source": [
    "long_comments = [ind for ind, comment in enumerate(df[target]) if len(comment.split()) > 200]\n",
    "\n",
    "print(f'Number of the problematic comments bc of size is: {len(long_comments)} ot of {len(df)}')"
   ]
  },
  {
   "cell_type": "code",
   "execution_count": 12,
   "metadata": {},
   "outputs": [
    {
     "name": "stdout",
     "output_type": "stream",
     "text": [
      "len of our dataset is: 3342\n"
     ]
    }
   ],
   "source": [
    "df = df[~df.index.isin(long_comments)].reset_index(drop=True)\n",
    "\n",
    "print(f'len of our dataset is: {len(df)}')"
   ]
  },
  {
   "cell_type": "markdown",
   "metadata": {},
   "source": [
    "### Cleaning Phase\n",
    "There is some data cleaning steps are needed. Actually NLP requires some preprocessing, but beyond the NLP preprocessing steps there are some easily seen steps.\n",
    "- Begining of the comments there is '\\n',\n",
    "- And scores in the 'point' columns arent seen as float bc of ',' (they should be '.')"
   ]
  },
  {
   "cell_type": "code",
   "execution_count": 13,
   "metadata": {},
   "outputs": [],
   "source": [
    "# Converting point column from string to float\n",
    "df[scores] = df[scores].apply(lambda x: x.replace(',', '.'))\n",
    "df[scores] = df[scores].astype(float)"
   ]
  },
  {
   "cell_type": "code",
   "execution_count": 14,
   "metadata": {},
   "outputs": [
    {
     "data": {
      "text/plain": [
       "\"\\n                      İlk film itibarı ile kadroda nam yapmış star oyuncu olmamasına rağmen iyi bir iş çıkarılmış. Efekt ve görsel sunum çok iyiydi. Brendan Fraser ve Beni karakterini oynayan oyuncu en başarılı oyunculardı. Rachel Weisz kanımca çok zayıftı. Fotojenik bir yüzü ve fiziksel açıdan hiçbir özelliği olmamasına rağmen bir Holywood yapımında oynaması ilginç. Film Fas'ta çekilmiş. O yıllara(1923) ait kostümler iyi dizayn edilmiş. 80 milyon dolar bütçeli film 450 milyon dolara yakın global bir gişe başarısı elde etmiş.\\n        \\n            \""
      ]
     },
     "execution_count": 14,
     "metadata": {},
     "output_type": "execute_result"
    }
   ],
   "source": [
    "# We can see some \\n at the begining and the ending of the comments. And there is some more spaces actually\n",
    "test_comment = df[target][0]\n",
    "test_comment"
   ]
  },
  {
   "cell_type": "code",
   "execution_count": 15,
   "metadata": {},
   "outputs": [
    {
     "data": {
      "text/plain": [
       "\"                      İlk film itibarı ile kadroda nam yapmış star oyuncu olmamasına rağmen iyi bir iş çıkarılmış. Efekt ve görsel sunum çok iyiydi. Brendan Fraser ve Beni karakterini oynayan oyuncu en başarılı oyunculardı. Rachel Weisz kanımca çok zayıftı. Fotojenik bir yüzü ve fiziksel açıdan hiçbir özelliği olmamasına rağmen bir Holywood yapımında oynaması ilginç. Film Fas'ta çekilmiş. O yıllara(1923) ait kostümler iyi dizayn edilmiş. 80 milyon dolar bütçeli film 450 milyon dolara yakın global bir gişe başarısı elde etmiş.                    \""
      ]
     },
     "execution_count": 15,
     "metadata": {},
     "output_type": "execute_result"
    }
   ],
   "source": [
    "# Actually this one didnt solve our problem directly\n",
    "test_comment.replace('\\n', '')"
   ]
  },
  {
   "cell_type": "code",
   "execution_count": 16,
   "metadata": {},
   "outputs": [
    {
     "name": "stdout",
     "output_type": "stream",
     "text": [
      "First 23 character is 'space' and the last 22 character is also 'space' in our case (for first comment)\n"
     ]
    }
   ],
   "source": [
    "first = test_comment.find('İlk')\n",
    "\n",
    "last = test_comment.find('etmiş.') # length of the etmis. = 6\n",
    "\n",
    "number_of_ending_spaces = len(test_comment) - last - 6\n",
    "\n",
    "print(f\"First {first} character is 'space' and the last {number_of_ending_spaces} character is also 'space' in our case (for first comment)\")"
   ]
  },
  {
   "cell_type": "code",
   "execution_count": 17,
   "metadata": {},
   "outputs": [
    {
     "data": {
      "text/plain": [
       "\"İlk film itibarı ile kadroda nam yapmış star oyuncu olmamasına rağmen iyi bir iş çıkarılmış. Efekt ve görsel sunum çok iyiydi. Brendan Fraser ve Beni karakterini oynayan oyuncu en başarılı oyunculardı. Rachel Weisz kanımca çok zayıftı. Fotojenik bir yüzü ve fiziksel açıdan hiçbir özelliği olmamasına rağmen bir Holywood yapımında oynaması ilginç. Film Fas'ta çekilmiş. O yıllara(1923) ait kostümler iyi dizayn edilmiş. 80 milyon dolar bütçeli film 450 milyon dolara yakın global bir gişe başarısı elde etmiş.\""
      ]
     },
     "execution_count": 17,
     "metadata": {},
     "output_type": "execute_result"
    }
   ],
   "source": [
    "# So in our case If I pass first 23 characters and last 22 characters of my comment, spaces are gonna be removed.\n",
    "\n",
    "test_comment[23:-22]"
   ]
  },
  {
   "cell_type": "markdown",
   "metadata": {},
   "source": [
    "- Looks good. But I have to test this for other comments (I'll show some of them)"
   ]
  },
  {
   "cell_type": "code",
   "execution_count": 18,
   "metadata": {},
   "outputs": [
    {
     "name": "stdout",
     "output_type": "stream",
     "text": [
      "İlk film itibarı ile kadroda nam yapmış star oyuncu olmamasına rağmen iyi bir iş çıkarılmış. Efekt ve görsel sunum çok iyiydi. Brendan Fraser ve Beni karakterini oynayan oyuncu en başarılı oyunculardı. Rachel Weisz kanımca çok zayıftı. Fotojenik bir yüzü ve fiziksel açıdan hiçbir özelliği olmamasına rağmen bir Holywood yapımında oynaması ilginç. Film Fas'ta çekilmiş. O yıllara(1923) ait kostümler iyi dizayn edilmiş. 80 milyon dolar bütçeli film 450 milyon dolara yakın global bir gişe başarısı elde etmiş. \n",
      "\n",
      "sırtına bolca görsel efetlere dayamış, gerek hikayesi gerekse karakterleri ile sempatik olamayan bir film. Temposuyla yorucu ve sıkıcı bir film.4/10 \n",
      "\n",
      "bence gayet güzel bi filmdi her ne kadar brendan fraser kendi kulvarının dışına çıksada yinede bence mükemmel bi oyunculuk gösterisinde bulunmuş....kaç defada seyrettiğimi bilmiyom ama her seyrettiğimde ayrı güzel geldi...ama bu filmide korku kategorisine almalarına hayret ettim doğrusu, ne alakaysa.:??? \n",
      "\n",
      "Sinemada seyretmiştim.Gerçekten güzel filmdi.Favori filmlerimden. \n",
      "\n",
      "harikaaa bi filmdi.. izlerken cidden ürkmüştüm.. kesinlikle 2.sine göre çookk daha iyiydi.. tekrar tekrar izlemeye değer.. \n",
      "\n"
     ]
    }
   ],
   "source": [
    "for comment in df[target][:5]:\n",
    "    print(comment[23:-22], '\\n')"
   ]
  },
  {
   "cell_type": "markdown",
   "metadata": {},
   "source": [
    "- Yup, everything looks good."
   ]
  },
  {
   "cell_type": "code",
   "execution_count": 19,
   "metadata": {},
   "outputs": [],
   "source": [
    "df[target] = df[target].apply(lambda x: x[23:-22])"
   ]
  },
  {
   "cell_type": "code",
   "execution_count": 20,
   "metadata": {},
   "outputs": [],
   "source": [
    "df['original_comments'] = df[target].copy()"
   ]
  },
  {
   "cell_type": "markdown",
   "metadata": {},
   "source": [
    "### NLP Preprocessing"
   ]
  },
  {
   "cell_type": "code",
   "execution_count": 21,
   "metadata": {},
   "outputs": [],
   "source": [
    "import pandas as pd\n",
    "from tqdm.notebook import tqdm\n",
    "tqdm.pandas()"
   ]
  },
  {
   "cell_type": "code",
   "execution_count": 22,
   "metadata": {},
   "outputs": [],
   "source": [
    "#!pip install torch===1.6.0 torchvision===0.7.0 -f https://download.pytorch.org/whl/torch_stable.html\n"
   ]
  },
  {
   "cell_type": "code",
   "execution_count": 23,
   "metadata": {},
   "outputs": [],
   "source": [
    "from transformers import AutoModelForSequenceClassification, AutoTokenizer, pipeline\n",
    "\n",
    "model = AutoModelForSequenceClassification.from_pretrained(\"savasy/bert-base-turkish-sentiment-cased\")\n",
    "tokenizer = AutoTokenizer.from_pretrained(\"savasy/bert-base-turkish-sentiment-cased\")\n",
    "\n",
    "sa = pipeline(\"sentiment-analysis\", tokenizer=tokenizer, model=model)"
   ]
  },
  {
   "cell_type": "code",
   "execution_count": 24,
   "metadata": {},
   "outputs": [],
   "source": [
    "import re\n",
    "import sys\n",
    "from nltk.stem.porter import PorterStemmer\n",
    "\n",
    "def preprocess_word(word):\n",
    "    # Remove punctuation\n",
    "    word = word.strip('\\'\"?!,.():;')\n",
    "    # Convert more than 2 letter repetitions to 2 letter\n",
    "    # funnnnny --> funny\n",
    "    word = re.sub(r'(.)\\1+', r'\\1\\1', word)\n",
    "    return word\n",
    "\n",
    "\n",
    "def preprocess_text(text):\n",
    "    processed_text = []\n",
    "    \n",
    "    text = text.lower()\n",
    "\n",
    "    # Replace 2+ or more dots with space\n",
    "    text = re.sub(r'\\.{2,}', ' ', text)\n",
    "    \n",
    "    # Strip space, \" and '\n",
    "    text = text.strip(' \"\\'')\n",
    "\n",
    "    text = re.sub(r'\\s+', ' ', text)\n",
    "    words = text.split()\n",
    "\n",
    "    for word in words:\n",
    "      word = preprocess_word(word)\n",
    "      processed_text.append(word)\n",
    "\n",
    "    return ' '.join(processed_text)\n"
   ]
  },
  {
   "cell_type": "code",
   "execution_count": 25,
   "metadata": {},
   "outputs": [],
   "source": [
    "def sentiment_analysis(text):\n",
    "    \"True if positive\"\n",
    "    p = sa(str(text))\n",
    "    return pd.Series([p[0][\"label\"], round(p[0][\"score\"],2)])\n"
   ]
  },
  {
   "cell_type": "code",
   "execution_count": null,
   "metadata": {},
   "outputs": [],
   "source": [
    "df[\"sentiment_label\"] = \"-\"\n",
    "df[[\"sentiment_label\", \"sentiment_score\"]] = df[target].progress_apply(sentiment_analysis)\n"
   ]
  },
  {
   "cell_type": "code",
   "execution_count": 34,
   "metadata": {},
   "outputs": [],
   "source": [
    "df_to_save = df[[names, 'sentiment_label', 'original_comments']]\n",
    "\n",
    "df_to_save.columns = ['movie', 'sentiment', 'comment']\n",
    "\n",
    "df_to_save.to_csv('data/predicteds.csv', index=False)"
   ]
  },
  {
   "cell_type": "code",
   "execution_count": 35,
   "metadata": {},
   "outputs": [
    {
     "data": {
      "text/plain": [
       "86"
      ]
     },
     "execution_count": 35,
     "metadata": {},
     "output_type": "execute_result"
    }
   ],
   "source": [
    "df[names].nunique()"
   ]
  },
  {
   "cell_type": "markdown",
   "metadata": {},
   "source": [
    "### Check Success Rate"
   ]
  },
  {
   "cell_type": "code",
   "execution_count": 36,
   "metadata": {},
   "outputs": [
    {
     "name": "stdout",
     "output_type": "stream",
     "text": [
      "\n",
      "Total numbers of point with greater than 2.5 are 2264 and the # of True classified is 1814, True classified rate: 0.8012367491166078 \n",
      "\n",
      "Total numbers of point with greater than 2.5 are 545 and the # of True classified is 507, True classified rate: 0.9302752293577982\n",
      "\n"
     ]
    }
   ],
   "source": [
    "gr25 = (df[scores] > 2.5).sum()\n",
    "tp_gr25 = ((df[scores] > 2.5) & (df['sentiment_label'] == 'positive')).sum()\n",
    "\n",
    "lw25 = (df[scores] < 2.5).sum()\n",
    "tn_lw25 = ((df[scores] < 2.5) & (df['sentiment_label'] != 'positive')).sum()\n",
    "print(f\"\"\"\n",
    "Total numbers of point with greater than 2.5 are {gr25} and the # of True classified is {tp_gr25}, True classified rate: {tp_gr25 / gr25} \\n\n",
    "Total numbers of point with greater than 2.5 are {lw25} and the # of True classified is {tn_lw25}, True classified rate: {tn_lw25 / lw25}\n",
    "\"\"\")"
   ]
  },
  {
   "cell_type": "markdown",
   "metadata": {},
   "source": [
    "* Success metrics is not bed, so I wont do any additional regularization."
   ]
  },
  {
   "cell_type": "code",
   "execution_count": null,
   "metadata": {},
   "outputs": [],
   "source": []
  }
 ],
 "metadata": {
  "interpreter": {
   "hash": "4800c9a39adaa0c8765317c41af873c7b6ed4d2670d38dacbf28f56f976237f1"
  },
  "kernelspec": {
   "display_name": "Python 3.7.6 64-bit",
   "language": "python",
   "name": "python3"
  },
  "language_info": {
   "codemirror_mode": {
    "name": "ipython",
    "version": 3
   },
   "file_extension": ".py",
   "mimetype": "text/x-python",
   "name": "python",
   "nbconvert_exporter": "python",
   "pygments_lexer": "ipython3",
   "version": "3.8.8"
  },
  "orig_nbformat": 4
 },
 "nbformat": 4,
 "nbformat_minor": 2
}
